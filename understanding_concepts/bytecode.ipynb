{
 "cells": [
  {
   "cell_type": "markdown",
   "metadata": {},
   "source": [
    "# Understanding Python's bytecode"
   ]
  },
  {
   "cell_type": "markdown",
   "metadata": {},
   "source": [
    " ## Bytecode <!-- TODO add this section on Obsidian -->\n",
    "\n",
    "\n",
    "- Bytecode based languages such as [java, C#, python], Are languages that utilize an internal compilation stage that acts like an intermediate set of instruction for the interpter.\n",
    "\n",
    "- Bytecode looks like high-level abstraction of assembly that is more readable.\n",
    "\n",
    "- Bytecode is **NOT** considered machine code and CPU cannot understand the instructon on it directly."
   ]
  },
  {
   "cell_type": "markdown",
   "metadata": {},
   "source": [
    "## Python's bytecode\n",
    "\n",
    "Python's bytecode is an intermediate language used by the Python Virtual Machine (PVM) to execute Python code efficiently. Here are some key points about Python's bytecode:\n",
    "\n",
    "- Bytecode is a low-level, platform-independent representation of your source code. It is not binary machine code and cannot be run directly by the target machine.\n",
    "\n",
    "- Bytecode is generated from Python source code through a process called compilation. In Python, the default implementation is [CPython]('https://wiki.python.org/moin/PythonImplementations?action=show&redirect=implementation), which compiles Python source code into bytecode\n",
    "\n",
    "\n",
    "- Bytecode files have a .pyc extension and are stored in a folder named __pycache__. In Python 3, the bytecode files are stored in a folder named __pycache__ so it can eliminate the compilation stage after the first one. 👍\n",
    "\n",
    "- The bytecode interpreter is part of the Python ecosystem and is responsible for executing the bytecode. \n",
    "\n",
    "- The CPython interpreter is an open-source implementation of the Python interpreter, and its implementation of the bytecode interpreter can be found on [GitHub]('https://github.com/python/cpython')\n",
    "\n",
    "\n",
    "- Understanding Python bytecode can help you reason about your code and optimize its performance. It can also be useful for debugging and analyzing the execution of your code.\n",
    "\n",
    "\n",
    "- The dis module in Python provides a disassembler for Python bytecode, which can be used to inspect and analyze the bytecode instructions.\n"
   ]
  },
  {
   "cell_type": "code",
   "execution_count": 29,
   "metadata": {},
   "outputs": [
    {
     "name": "stdout",
     "output_type": "stream",
     "text": [
      "  4           0 LOAD_FAST                0 (a)\n",
      "              2 LOAD_FAST                1 (b)\n",
      "              4 BINARY_ADD\n",
      "              6 RETURN_VALUE\n",
      "------------------------------------------------------------------------------------------\n",
      " 15           0 LOAD_FAST                0 (a)\n",
      "              2 LOAD_FAST                1 (b)\n",
      "              4 BINARY_ADD\n",
      "              6 RETURN_VALUE\n"
     ]
    }
   ],
   "source": [
    "import dis\n",
    "\n",
    "def add_numbers(a: int, b: int) -> int:\n",
    "    return a + b\n",
    "\n",
    "dis.dis(add_numbers)\n",
    "\n",
    "#  4           0 LOAD_FAST                0 (a)\n",
    "#              2 LOAD_FAST                1 (b)\n",
    "#              4 BINARY_ADD\n",
    "#              6 RETURN_VALUE\n",
    "\n",
    "print('---' * 30)\n",
    "\n",
    "lambda_add_numbers = lambda a, b: a + b # yeilds the same bytecode as add_numbers\n",
    "\n",
    "dis.dis(lambda_add_numbers)\n",
    "\n",
    "\n"
   ]
  },
  {
   "cell_type": "markdown",
   "metadata": {},
   "source": [
    "## Disecting The Bytecode Table\n",
    "\n",
    "Python bytecode is a stack-based programming language, which means that it operates by pushing data onto and popping it off the stack.\n"
   ]
  },
  {
   "cell_type": "markdown",
   "metadata": {},
   "source": [
    "\n",
    "<p> This is a explaination of the bytecode table found above </p> \n",
    "\n",
    "| Line |Offset| Instruction | Argument | Explanation |\n",
    "|------|---|-------------|----------|-------------|\n",
    "| 4    |0| LOAD_FAST  | 0        | Load the value of the local variable `a` onto the stack |\n",
    "| 2    |2| LOAD_FAST  | 1        | Load the value of the local variable `b` onto the stack |\n",
    "| 4    |4| BINARY_ADD |          | Pop the top two values from the stack, add them, and push the result onto the stack |\n",
    "| 6    |6| RETURN_VALUE |          | Return the top value from the stack as the result of the function |\n"
   ]
  },
  {
   "cell_type": "markdown",
   "metadata": {},
   "source": [
    "Note: will go `in-depth` Later but here a summary.\n",
    "\n",
    "\n",
    "- **Line**: Represents the line number in the source code where the bytecode instruction is located.\n",
    "\n",
    "- **Offset**: Represents the offset of the bytecode instruction within the bytecode sequence.\n",
    "\n",
    "- **Instruction**: Represents the bytecode instruction itself, which specifies the operation to be performed.\n",
    "\n",
    "- **Argument**: Represents the argument associated with the bytecode instruction, if any.\n",
    "\n"
   ]
  },
  {
   "cell_type": "markdown",
   "metadata": {},
   "source": [
    "#### *To truly understand how bytecode is constructed you need to check the \\_\\_code\\_\\_* Object\n",
    "\n",
    "Lets take the add_numbers function from earlier "
   ]
  },
  {
   "cell_type": "code",
   "execution_count": 14,
   "metadata": {},
   "outputs": [
    {
     "name": "stdout",
     "output_type": "stream",
     "text": [
      "co_argcount co_cellvars co_code co_consts co_filename co_firstlineno co_flags co_freevars co_kwonlyargcount co_lines co_linetable co_lnotab co_name co_names co_nlocals co_posonlyargcount co_stacksize co_varnames replace "
     ]
    }
   ],
   "source": [
    "\n",
    "for ele in dir(add_numbers.__code__):\n",
    "    if not ele.startswith('_'):\n",
    "        print(ele, end=' ')"
   ]
  },
  {
   "cell_type": "markdown",
   "metadata": {},
   "source": [
    "for all these attributes there are some that are some i want to focus on.\n",
    "\n",
    "- `co_consts` Store constants which will be pushed onto our stack. But whats interesting is that `None` element!.\n",
    "\n",
    "The reason for that because if the function doesn't explicitly have a return statement then it will return None, which why we need it on our `co_consts` ready. 👍"
   ]
  },
  {
   "cell_type": "code",
   "execution_count": 6,
   "metadata": {},
   "outputs": [
    {
     "data": {
      "text/plain": [
       "(None, 'constant')"
      ]
     },
     "execution_count": 6,
     "metadata": {},
     "output_type": "execute_result"
    }
   ],
   "source": [
    "some_global_var = 'some_global_var'\n",
    "def add_numbers1(a: int, b: int) -> int:\n",
    "    the_consts = 'constant'\n",
    "    another_var = some_global_var\n",
    "    return a + b\n",
    "\n",
    "add_numbers1.__code__.co_consts"
   ]
  },
  {
   "cell_type": "markdown",
   "metadata": {},
   "source": [
    "- `co_varnames` Store the variable name, which includes out params."
   ]
  },
  {
   "cell_type": "code",
   "execution_count": 23,
   "metadata": {},
   "outputs": [
    {
     "data": {
      "text/plain": [
       "('a', 'b', 'the_consts', 'another_var')"
      ]
     },
     "execution_count": 23,
     "metadata": {},
     "output_type": "execute_result"
    }
   ],
   "source": [
    "add_numbers1.__code__.co_varnames"
   ]
  },
  {
   "cell_type": "markdown",
   "metadata": {},
   "source": [
    "- `co_names` For non-local names"
   ]
  },
  {
   "cell_type": "code",
   "execution_count": 24,
   "metadata": {},
   "outputs": [
    {
     "data": {
      "text/plain": [
       "('some_global_var',)"
      ]
     },
     "execution_count": 24,
     "metadata": {},
     "output_type": "execute_result"
    }
   ],
   "source": [
    "add_numbers1.__code__.co_names"
   ]
  },
  {
   "cell_type": "markdown",
   "metadata": {},
   "source": [
    "- `co_code` Finally main player here 😎. This is the actual bytecode in byte representation. python default into presents byte object in ascii."
   ]
  },
  {
   "cell_type": "code",
   "execution_count": 25,
   "metadata": {},
   "outputs": [
    {
     "data": {
      "text/plain": [
       "b'd\\x01}\\x02t\\x00}\\x03|\\x00|\\x01\\x17\\x00S\\x00'"
      ]
     },
     "execution_count": 25,
     "metadata": {},
     "output_type": "execute_result"
    }
   ],
   "source": [
    "add_numbers1.__code__.co_code"
   ]
  },
  {
   "cell_type": "markdown",
   "metadata": {},
   "source": [
    "Lets explore `co_code` a lil further.\n",
    "\n",
    "suppose we take the first byte char which looks like `d` it is actually in hexidecimal."
   ]
  },
  {
   "cell_type": "code",
   "execution_count": 26,
   "metadata": {},
   "outputs": [
    {
     "data": {
      "text/plain": [
       "100"
      ]
     },
     "execution_count": 26,
     "metadata": {},
     "output_type": "execute_result"
    }
   ],
   "source": [
    "# lets look at the first byte code instruction\n",
    "#first lets look at the ascii value of the byte code\n",
    "ord('d')"
   ]
  },
  {
   "cell_type": "code",
   "execution_count": 7,
   "metadata": {},
   "outputs": [
    {
     "data": {
      "text/plain": [
       "'LOAD_CONST'"
      ]
     },
     "execution_count": 7,
     "metadata": {},
     "output_type": "execute_result"
    }
   ],
   "source": [
    "import dis\n",
    "\n",
    "# Now lets look at the disassembled byte code to find out the instruction\n",
    "\n",
    "dis.opname[100]"
   ]
  },
  {
   "cell_type": "markdown",
   "metadata": {},
   "source": [
    "The first binary was the operation `LOAD_CONST` lets see if that is correct"
   ]
  },
  {
   "cell_type": "code",
   "execution_count": 8,
   "metadata": {},
   "outputs": [
    {
     "name": "stdout",
     "output_type": "stream",
     "text": [
      "  3           0 LOAD_CONST               1 ('constant')\n",
      "              2 STORE_FAST               2 (the_consts)\n",
      "\n",
      "  4           4 LOAD_GLOBAL              0 (some_global_var)\n",
      "              6 STORE_FAST               3 (another_var)\n",
      "\n",
      "  5           8 LOAD_FAST                0 (a)\n",
      "             10 LOAD_FAST                1 (b)\n",
      "             12 BINARY_ADD\n",
      "             14 RETURN_VALUE\n"
     ]
    }
   ],
   "source": [
    "dis.dis(add_numbers1)"
   ]
  },
  {
   "cell_type": "markdown",
   "metadata": {},
   "source": [
    "Surely It is ✨🎉✨\n",
    "\n",
    "That means we can look that the instructions Like this as well using the Offset 😎. &darr;"
   ]
  },
  {
   "cell_type": "code",
   "execution_count": 11,
   "metadata": {},
   "outputs": [
    {
     "data": {
      "text/plain": [
       "'STORE_FAST'"
      ]
     },
     "execution_count": 11,
     "metadata": {},
     "output_type": "execute_result"
    }
   ],
   "source": [
    "dis.opname[add_numbers1.__code__.co_code[2]] # this is the instruction for LOAD_FAST ✨"
   ]
  }
 ],
 "metadata": {
  "kernelspec": {
   "display_name": "Python 3",
   "language": "python",
   "name": "python3"
  },
  "language_info": {
   "codemirror_mode": {
    "name": "ipython",
    "version": 3
   },
   "file_extension": ".py",
   "mimetype": "text/x-python",
   "name": "python",
   "nbconvert_exporter": "python",
   "pygments_lexer": "ipython3",
   "version": "3.10.13"
  }
 },
 "nbformat": 4,
 "nbformat_minor": 2
}
