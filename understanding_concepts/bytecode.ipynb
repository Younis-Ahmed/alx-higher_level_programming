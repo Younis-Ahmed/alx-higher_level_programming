{
 "cells": [
  {
   "cell_type": "markdown",
   "metadata": {},
   "source": [
    "# Understanding Python's bytecode"
   ]
  },
  {
   "cell_type": "markdown",
   "metadata": {},
   "source": [
    " ## Bytecode <!-- TODO add this section on Obsidian -->\n",
    "\n",
    "\n",
    "- Bytecode based languages such as [java, C#, python], Are languages that utilize an internal compilation stage that acts like an intermediate set of instruction for the interpter.\n",
    "\n",
    "- Bytecode looks like high-level abstraction of assembly that is more readable.\n",
    "\n",
    "- Bytecode is **NOT** considered machine code and CPU cannot understand the instructon on it directly."
   ]
  },
  {
   "cell_type": "markdown",
   "metadata": {},
   "source": [
    "## Python's bytecode\n",
    "\n",
    "Python's bytecode is an intermediate language used by the Python Virtual Machine (PVM) to execute Python code efficiently. Here are some key points about Python's bytecode:\n",
    "\n",
    "- Bytecode is a low-level, platform-independent representation of your source code. It is not binary machine code and cannot be run directly by the target machine.\n",
    "\n",
    "- Bytecode is generated from Python source code through a process called compilation. In Python, the default implementation is [CPython]('https://wiki.python.org/moin/PythonImplementations?action=show&redirect=implementation), which compiles Python source code into bytecode\n",
    "\n",
    "\n",
    "- Bytecode files have a .pyc extension and are stored in a folder named __pycache__. In Python 3, the bytecode files are stored in a folder named __pycache__ so it can eliminate the compilation stage after the first one. 👍\n",
    "\n",
    "- The bytecode interpreter is part of the Python ecosystem and is responsible for executing the bytecode. \n",
    "\n",
    "- The CPython interpreter is an open-source implementation of the Python interpreter, and its implementation of the bytecode interpreter can be found on [GitHub]('https://github.com/python/cpython')\n",
    "\n",
    "\n",
    "- Understanding Python bytecode can help you reason about your code and optimize its performance. It can also be useful for debugging and analyzing the execution of your code.\n",
    "\n",
    "\n",
    "- The dis module in Python provides a disassembler for Python bytecode, which can be used to inspect and analyze the bytecode instructions.\n"
   ]
  },
  {
   "cell_type": "code",
   "execution_count": 24,
   "metadata": {},
   "outputs": [
    {
     "name": "stdout",
     "output_type": "stream",
     "text": [
      "  4           0 LOAD_FAST                0 (a)\n",
      "              2 LOAD_FAST                1 (b)\n",
      "              4 BINARY_ADD\n",
      "              6 RETURN_VALUE\n",
      "------------------------------------------------------------------------------------------\n",
      " 15           0 LOAD_FAST                0 (a)\n",
      "              2 LOAD_FAST                1 (b)\n",
      "              4 BINARY_ADD\n",
      "              6 RETURN_VALUE\n",
      "LOAD_FAST\n"
     ]
    }
   ],
   "source": [
    "import dis\n",
    "\n",
    "def add_numbers(a: int, b: int) -> int:\n",
    "    return a + b\n",
    "\n",
    "dis.dis(add_numbers)\n",
    "\n",
    "#  4           0 LOAD_FAST                0 (a)\n",
    "#              2 LOAD_FAST                1 (b)\n",
    "#              4 BINARY_ADD\n",
    "#              6 RETURN_VALUE\n",
    "\n",
    "print('---' * 30)\n",
    "\n",
    "lambda_add_numbers = lambda a, b: a + b # yeilds the same bytecode as add_numbers\n",
    "\n",
    "dis.dis(lambda_add_numbers)\n",
    "\n",
    "print(dis.opname[add_numbers.__code__.co_code[2]])\n"
   ]
  },
  {
   "cell_type": "markdown",
   "metadata": {},
   "source": [
    "## Disecting The Bytecode Table\n",
    "\n",
    "Python bytecode is a stack-based programming language, which means that it operates by pushing data onto and popping it off the stack.\n"
   ]
  },
  {
   "cell_type": "markdown",
   "metadata": {},
   "source": [
    "\n",
    "<p> This is a explaination of the bytecode table found above </p> \n",
    "\n",
    "| Line |Offset| Instruction | Argument | Explanation |\n",
    "|------|---|-------------|----------|-------------|\n",
    "| 4    |0| LOAD_FAST  | 0        | Load the value of the local variable `a` onto the stack |\n",
    "| 2    |2| LOAD_FAST  | 1        | Load the value of the local variable `b` onto the stack |\n",
    "| 4    |4| BINARY_ADD |          | Pop the top two values from the stack, add them, and push the result onto the stack |\n",
    "| 6    |6| RETURN_VALUE |          | Return the top value from the stack as the result of the function |\n"
   ]
  }
 ],
 "metadata": {
  "kernelspec": {
   "display_name": "Python 3",
   "language": "python",
   "name": "python3"
  },
  "language_info": {
   "codemirror_mode": {
    "name": "ipython",
    "version": 3
   },
   "file_extension": ".py",
   "mimetype": "text/x-python",
   "name": "python",
   "nbconvert_exporter": "python",
   "pygments_lexer": "ipython3",
   "version": "3.10.13"
  }
 },
 "nbformat": 4,
 "nbformat_minor": 2
}
